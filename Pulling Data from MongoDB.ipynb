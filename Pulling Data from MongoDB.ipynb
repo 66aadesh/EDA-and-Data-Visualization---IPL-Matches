{
 "cells": [
  {
   "cell_type": "code",
   "execution_count": 36,
   "metadata": {},
   "outputs": [],
   "source": [
    "import pymongo\n",
    "import json\n",
    "from bson import json_util"
   ]
  },
  {
   "cell_type": "code",
   "execution_count": 21,
   "metadata": {},
   "outputs": [],
   "source": [
    "# Connect to the MongoDB cluster\n",
    "my_client = pymongo.MongoClient(\"mongodb+srv://66aadesh:<password>@cluster0.ng9n7ca.mongodb.net/?retryWrites=true&w=majority\")\n"
   ]
  },
  {
   "cell_type": "code",
   "execution_count": 22,
   "metadata": {},
   "outputs": [
    {
     "data": {
      "text/plain": [
       "['my_first_mongodb',\n",
       " 'my_mongodb',\n",
       " 'sample_airbnb',\n",
       " 'sample_geospatial',\n",
       " 'sample_guides',\n",
       " 'sample_mflix',\n",
       " 'sample_restaurants',\n",
       " 'sample_supplies',\n",
       " 'sample_training',\n",
       " 'sample_weatherdata',\n",
       " 'admin',\n",
       " 'local']"
      ]
     },
     "execution_count": 22,
     "metadata": {},
     "output_type": "execute_result"
    }
   ],
   "source": [
    "my_client.list_database_names()"
   ]
  },
  {
   "cell_type": "code",
   "execution_count": 23,
   "metadata": {},
   "outputs": [],
   "source": [
    "db = my_client[\"my_mongodb\"]"
   ]
  },
  {
   "cell_type": "code",
   "execution_count": 25,
   "metadata": {},
   "outputs": [
    {
     "data": {
      "text/plain": [
       "['IPL_Matches_All']"
      ]
     },
     "execution_count": 25,
     "metadata": {},
     "output_type": "execute_result"
    }
   ],
   "source": [
    "db.list_collection_names()"
   ]
  },
  {
   "cell_type": "code",
   "execution_count": 34,
   "metadata": {},
   "outputs": [],
   "source": [
    "collection = db[\"IPL_Matches_All\"]\n",
    "ipl = list(collection.find({}))"
   ]
  },
  {
   "cell_type": "code",
   "execution_count": 35,
   "metadata": {},
   "outputs": [
    {
     "data": {
      "text/plain": [
       "list"
      ]
     },
     "execution_count": 35,
     "metadata": {},
     "output_type": "execute_result"
    }
   ],
   "source": [
    "type(ipl)"
   ]
  },
  {
   "cell_type": "code",
   "execution_count": 37,
   "metadata": {},
   "outputs": [],
   "source": [
    "ipl_data = [json.loads(json_util.dumps(doc)) for doc in ipl]"
   ]
  },
  {
   "cell_type": "code",
   "execution_count": 32,
   "metadata": {},
   "outputs": [
    {
     "name": "stdout",
     "output_type": "stream",
     "text": [
      "List object saved to output.json\n"
     ]
    }
   ],
   "source": [
    "# import json\n",
    "\n",
    "# # Sample list object\n",
    "# my_list = [1, 2, 3, 4, 5]\n",
    "\n",
    "# # Define the name of the output JSON file\n",
    "# output_file = \"output.json\"\n",
    "\n",
    "# # Write the list object to the JSON file\n",
    "# with open(output_file, 'w') as f:\n",
    "#     json.dump(my_list, f, indent=4)\n",
    "\n",
    "# print(f\"List object saved to {output_file}\")\n"
   ]
  },
  {
   "cell_type": "code",
   "execution_count": 38,
   "metadata": {},
   "outputs": [
    {
     "name": "stdout",
     "output_type": "stream",
     "text": [
      "Data written to ipl_match_data.json\n"
     ]
    }
   ],
   "source": [
    "# Define the name of the output JSON file\n",
    "ipl_match_data = \"ipl_match_data.json\"\n",
    "\n",
    "# Write documents to JSON file\n",
    "with open(ipl_match_data, 'w') as f:\n",
    "    # Use json.dump to write the list of dictionaries to the file\n",
    "    json.dump(ipl_data, f, indent=4)\n",
    "\n",
    "print(f\"Data written to {ipl_match_data}\")"
   ]
  },
  {
   "cell_type": "code",
   "execution_count": 41,
   "metadata": {},
   "outputs": [
    {
     "data": {
      "text/plain": [
       "{'_id': {'$oid': '65c24dfd5212859cdf1fa3b2'},\n",
       " 'match_url': 'https://www.espncricinfo.com/series/indian-premier-league-2007-08-313494/royal-challengers-bangalore-vs-kolkata-knight-riders-1st-match-335982/full-scorecard',\n",
       " 'team_a': 'Kolkata Knight Riders',\n",
       " 'team_b': 'Royal Challengers Bangalore',\n",
       " 'winner': 'Kolkata Knight Riders',\n",
       " 'loser': 'Royal Challengers Bangalore',\n",
       " 'stadium': 'M Chinnaswamy Stadium, Bangalore',\n",
       " 'Toss': 'Royal Challengers Bangalore, elected to field first',\n",
       " 'Series': 'Indian Premier League',\n",
       " 'Season': '2007/08',\n",
       " 'Player Of The Match': 'Brendon McCullum',\n",
       " 'Hours of play (local time)': '20.00 start, First Session 20.00-21.20, Interval 21.20-21.40, Second Session 21.40-23.00',\n",
       " 'Match days': '18 April 2008 | - night | (20-over match)',\n",
       " 'T20 debut': 'Ashok Dinda',\n",
       " 'Umpires': ['Asad Rauf', 'Rudi Koertzen'],\n",
       " 'TV Umpire': 'Amiesh Saheba',\n",
       " 'Reserve Umpire': 'Vinayak Kulkarni',\n",
       " 'Match Referee': 'Javagal Srinath',\n",
       " 'Points': 'Kolkata Knight Riders 2, Royal Challengers Bangalore 0',\n",
       " 'inning_one': {'batting': {'batting_scorecard': [{'batsman': 'Sourav Ganguly',\n",
       "     'player_tags': ['(c)'],\n",
       "     'player_status': 'c Kallis b Khan',\n",
       "     'runs': '10',\n",
       "     'number_of_balls': '12',\n",
       "     'fours': '2',\n",
       "     'sixs': '0',\n",
       "     'strike_rate': '83.33'},\n",
       "    {'batsman': 'Brendon McCullum',\n",
       "     'player_tags': ['\\x86'],\n",
       "     'player_status': 'not out',\n",
       "     'runs': '158',\n",
       "     'number_of_balls': '73',\n",
       "     'fours': '10',\n",
       "     'sixs': '13',\n",
       "     'strike_rate': '216.43'},\n",
       "    {'batsman': 'Ricky Ponting',\n",
       "     'player_tags': [],\n",
       "     'player_status': 'c Kumar b Kallis',\n",
       "     'runs': '20',\n",
       "     'number_of_balls': '20',\n",
       "     'fours': '1',\n",
       "     'sixs': '1',\n",
       "     'strike_rate': '100.00'},\n",
       "    {'batsman': 'David Hussey',\n",
       "     'player_tags': [],\n",
       "     'player_status': 'c White b Noffke',\n",
       "     'runs': '12',\n",
       "     'number_of_balls': '12',\n",
       "     'fours': '1',\n",
       "     'sixs': '0',\n",
       "     'strike_rate': '100.00'},\n",
       "    {'batsman': 'Mohammad Hafeez',\n",
       "     'player_tags': [],\n",
       "     'player_status': 'not out',\n",
       "     'runs': '5',\n",
       "     'number_of_balls': '3',\n",
       "     'fours': '1',\n",
       "     'sixs': '0',\n",
       "     'strike_rate': '166.66'}],\n",
       "   'fall_of_wicket': '1-61 (Sourav Ganguly, 5.2 ov), 2-112 (Ricky Ponting, 12.1 ov), 3-172 (David Hussey, 17.1 ov)',\n",
       "   'did_not_bat': ['Laxmi Shukla',\n",
       "    'Wriddhiman Saha',\n",
       "    'Ajit Agarkar',\n",
       "    'Ashok Dinda',\n",
       "    'Murali Kartik',\n",
       "    'Ishant Sharma'],\n",
       "   'total_run': '222',\n",
       "   'total_wicket': '3',\n",
       "   'total_over': '20',\n",
       "   'run_rate': '11.10',\n",
       "   'total_extra_run': '17',\n",
       "   'extras': '(b 4, lb 4, w 9)'},\n",
       "  'Bowlling': [{'bowler': 'Praveen Kumar',\n",
       "    'number_of_over': '4',\n",
       "    'number_of_maiden_over': '0',\n",
       "    'runs_conceded': '38',\n",
       "    'number_of_wicktes': '0',\n",
       "    'econ': '9.50',\n",
       "    'wide_balls': '1',\n",
       "    'no_balls': '0'},\n",
       "   {'bowler': 'Zaheer Khan',\n",
       "    'number_of_over': '4',\n",
       "    'number_of_maiden_over': '0',\n",
       "    'runs_conceded': '38',\n",
       "    'number_of_wicktes': '1',\n",
       "    'econ': '9.50',\n",
       "    'wide_balls': '0',\n",
       "    'no_balls': '0'},\n",
       "   {'bowler': 'Ashley Noffke',\n",
       "    'number_of_over': '4',\n",
       "    'number_of_maiden_over': '0',\n",
       "    'runs_conceded': '40',\n",
       "    'number_of_wicktes': '1',\n",
       "    'econ': '10.00',\n",
       "    'wide_balls': '1',\n",
       "    'no_balls': '0'},\n",
       "   {'bowler': 'Jacques Kallis',\n",
       "    'number_of_over': '4',\n",
       "    'number_of_maiden_over': '0',\n",
       "    'runs_conceded': '48',\n",
       "    'number_of_wicktes': '1',\n",
       "    'econ': '12.00',\n",
       "    'wide_balls': '1',\n",
       "    'no_balls': '0'},\n",
       "   {'bowler': 'Sunil Joshi',\n",
       "    'number_of_over': '3',\n",
       "    'number_of_maiden_over': '0',\n",
       "    'runs_conceded': '26',\n",
       "    'number_of_wicktes': '0',\n",
       "    'econ': '8.66',\n",
       "    'wide_balls': '0',\n",
       "    'no_balls': '0'},\n",
       "   {'bowler': 'Cameron White',\n",
       "    'number_of_over': '1',\n",
       "    'number_of_maiden_over': '0',\n",
       "    'runs_conceded': '24',\n",
       "    'number_of_wicktes': '0',\n",
       "    'econ': '24.00',\n",
       "    'wide_balls': '1',\n",
       "    'no_balls': '0'}]},\n",
       " 'inning_two': {'batting': {'batting_scorecard': [{'batsman': 'Rahul Dravid',\n",
       "     'player_tags': ['(c)'],\n",
       "     'player_status': 'b Sharma',\n",
       "     'runs': '2',\n",
       "     'number_of_balls': '3',\n",
       "     'fours': '0',\n",
       "     'sixs': '0',\n",
       "     'strike_rate': '66.66'},\n",
       "    {'batsman': 'Wasim Jaffer',\n",
       "     'player_tags': [],\n",
       "     'player_status': 'c Ponting b Dinda',\n",
       "     'runs': '6',\n",
       "     'number_of_balls': '16',\n",
       "     'fours': '0',\n",
       "     'sixs': '0',\n",
       "     'strike_rate': '37.50'},\n",
       "    {'batsman': 'Virat Kohli',\n",
       "     'player_tags': [],\n",
       "     'player_status': 'b Dinda',\n",
       "     'runs': '1',\n",
       "     'number_of_balls': '5',\n",
       "     'fours': '0',\n",
       "     'sixs': '0',\n",
       "     'strike_rate': '20.00'},\n",
       "    {'batsman': 'Jacques Kallis',\n",
       "     'player_tags': [],\n",
       "     'player_status': 'c Kartik b Agarkar',\n",
       "     'runs': '8',\n",
       "     'number_of_balls': '7',\n",
       "     'fours': '0',\n",
       "     'sixs': '1',\n",
       "     'strike_rate': '114.28'},\n",
       "    {'batsman': 'Cameron White',\n",
       "     'player_tags': [],\n",
       "     'player_status': 'c Saha b Agarkar',\n",
       "     'runs': '6',\n",
       "     'number_of_balls': '10',\n",
       "     'fours': '0',\n",
       "     'sixs': '0',\n",
       "     'strike_rate': '60.00'},\n",
       "    {'batsman': 'Mark Boucher',\n",
       "     'player_tags': ['\\x86'],\n",
       "     'player_status': 'c Kartik b Ganguly',\n",
       "     'runs': '7',\n",
       "     'number_of_balls': '9',\n",
       "     'fours': '1',\n",
       "     'sixs': '0',\n",
       "     'strike_rate': '77.77'},\n",
       "    {'batsman': 'Balachandra Akhil',\n",
       "     'player_tags': [],\n",
       "     'player_status': 'c Ponting b Agarkar',\n",
       "     'runs': '0',\n",
       "     'number_of_balls': '2',\n",
       "     'fours': '0',\n",
       "     'sixs': '0',\n",
       "     'strike_rate': '0.00'},\n",
       "    {'batsman': 'Ashley Noffke',\n",
       "     'player_tags': [],\n",
       "     'player_status': 'run out (Agarkar/Saha)',\n",
       "     'runs': '9',\n",
       "     'number_of_balls': '10',\n",
       "     'fours': '1',\n",
       "     'sixs': '0',\n",
       "     'strike_rate': '90.00'},\n",
       "    {'batsman': 'Praveen Kumar',\n",
       "     'player_tags': [],\n",
       "     'player_status': 'not out',\n",
       "     'runs': '18',\n",
       "     'number_of_balls': '15',\n",
       "     'fours': '1',\n",
       "     'sixs': '2',\n",
       "     'strike_rate': '120.00'},\n",
       "    {'batsman': 'Zaheer Khan',\n",
       "     'player_tags': [],\n",
       "     'player_status': 'b Ganguly',\n",
       "     'runs': '3',\n",
       "     'number_of_balls': '8',\n",
       "     'fours': '0',\n",
       "     'sixs': '0',\n",
       "     'strike_rate': '37.50'},\n",
       "    {'batsman': 'Sunil Joshi',\n",
       "     'player_tags': [],\n",
       "     'player_status': 'c \\x86McCullum b Shukla',\n",
       "     'runs': '3',\n",
       "     'number_of_balls': '6',\n",
       "     'fours': '0',\n",
       "     'sixs': '0',\n",
       "     'strike_rate': '50.00'}],\n",
       "   'fall_of_wicket': '1-4 (Rahul Dravid, 1.1 ov), 2-9 (Virat Kohli, 2.2 ov), 3-24 (Jacques Kallis, 4.5 ov), 4-24 (Wasim Jaffer, 5.2 ov), 5-38 (Mark Boucher, 7.5 ov), 6-38 (Balachandra Akhil, 8.2 ov), 7-43 (Cameron White, 8.6 ov), 8-57 (Ashley Noffke, 11.1 ov), 9-70 (Zaheer Khan, 13.1 ov), 10-82 (Sunil Joshi, 15.1 ov)',\n",
       "   'did_not_bat': [],\n",
       "   'total_run': '82',\n",
       "   'total_wicket': 10,\n",
       "   'total_over': '15.1',\n",
       "   'run_rate': '5.40',\n",
       "   'total_extra_run': '19',\n",
       "   'extras': '(lb 8, w 11)'},\n",
       "  'Bowlling': [{'bowler': 'Ashok Dinda',\n",
       "    'number_of_over': '3',\n",
       "    'number_of_maiden_over': '0',\n",
       "    'runs_conceded': '9',\n",
       "    'number_of_wicktes': '2',\n",
       "    'econ': '3.00',\n",
       "    'wide_balls': '2',\n",
       "    'no_balls': '0'},\n",
       "   {'bowler': 'Ishant Sharma',\n",
       "    'number_of_over': '3',\n",
       "    'number_of_maiden_over': '0',\n",
       "    'runs_conceded': '7',\n",
       "    'number_of_wicktes': '1',\n",
       "    'econ': '2.33',\n",
       "    'wide_balls': '1',\n",
       "    'no_balls': '0'},\n",
       "   {'bowler': 'Ajit Agarkar',\n",
       "    'number_of_over': '4',\n",
       "    'number_of_maiden_over': '0',\n",
       "    'runs_conceded': '25',\n",
       "    'number_of_wicktes': '3',\n",
       "    'econ': '6.25',\n",
       "    'wide_balls': '4',\n",
       "    'no_balls': '0'},\n",
       "   {'bowler': 'Sourav Ganguly',\n",
       "    'number_of_over': '4',\n",
       "    'number_of_maiden_over': '0',\n",
       "    'runs_conceded': '21',\n",
       "    'number_of_wicktes': '2',\n",
       "    'econ': '5.25',\n",
       "    'wide_balls': '1',\n",
       "    'no_balls': '0'},\n",
       "   {'bowler': 'Laxmi Shukla',\n",
       "    'number_of_over': '1.1',\n",
       "    'number_of_maiden_over': '0',\n",
       "    'runs_conceded': '12',\n",
       "    'number_of_wicktes': '1',\n",
       "    'econ': '10.28',\n",
       "    'wide_balls': '2',\n",
       "    'no_balls': '0'}]}}"
      ]
     },
     "execution_count": 41,
     "metadata": {},
     "output_type": "execute_result"
    }
   ],
   "source": [
    "# Load the JSON file\n",
    "# with open(ipl_match_data, 'r') as f:\n",
    "#     data = json.load(f)\n",
    "\n",
    "# Print the first item\n",
    "# print(data[0])\n",
    "data[0]\n"
   ]
  },
  {
   "cell_type": "code",
   "execution_count": null,
   "metadata": {},
   "outputs": [],
   "source": []
  }
 ],
 "metadata": {
  "kernelspec": {
   "display_name": "base",
   "language": "python",
   "name": "python3"
  },
  "language_info": {
   "codemirror_mode": {
    "name": "ipython",
    "version": 3
   },
   "file_extension": ".py",
   "mimetype": "text/x-python",
   "name": "python",
   "nbconvert_exporter": "python",
   "pygments_lexer": "ipython3",
   "version": "3.11.4"
  }
 },
 "nbformat": 4,
 "nbformat_minor": 2
}
